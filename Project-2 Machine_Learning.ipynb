{
 "cells": [
  {
   "cell_type": "code",
   "execution_count": 1,
   "metadata": {},
   "outputs": [],
   "source": [
    "import sqlite3\n",
    "import pandas as pd\n",
    "import sklearn\n",
    "from sklearn.model_selection import ShuffleSplit, train_test_split,cross_val_score,GridSearchCV,KFold, RandomizedSearchCV\n",
    "from sklearn.linear_model import LinearRegression, Ridge, Lasso, ElasticNet\n",
    "from sklearn.tree import DecisionTreeRegressor\n",
    "from sklearn.ensemble import GradientBoostingRegressor, RandomForestRegressor, AdaBoostRegressor\n",
    "from sklearn.metrics import mean_squared_error\n",
    "from sklearn.metrics import r2_score\n",
    "import pickle\n",
    "from math import sqrt\n",
    "import matplotlib.pyplot as plt"
   ]
  },
  {
   "cell_type": "code",
   "execution_count": 2,
   "metadata": {},
   "outputs": [],
   "source": [
    "con = sqlite3.connect('database.sqlite')\n",
    "df = pd.read_sql_query(\"SELECT * FROM Player_Attributes\", con)"
   ]
  },
  {
   "cell_type": "code",
   "execution_count": 3,
   "metadata": {},
   "outputs": [
    {
     "name": "stdout",
     "output_type": "stream",
     "text": [
      "(183978, 42)\n",
      "Index(['id', 'player_fifa_api_id', 'player_api_id', 'date', 'overall_rating',\n",
      "       'potential', 'preferred_foot', 'attacking_work_rate',\n",
      "       'defensive_work_rate', 'crossing', 'finishing', 'heading_accuracy',\n",
      "       'short_passing', 'volleys', 'dribbling', 'curve', 'free_kick_accuracy',\n",
      "       'long_passing', 'ball_control', 'acceleration', 'sprint_speed',\n",
      "       'agility', 'reactions', 'balance', 'shot_power', 'jumping', 'stamina',\n",
      "       'strength', 'long_shots', 'aggression', 'interceptions', 'positioning',\n",
      "       'vision', 'penalties', 'marking', 'standing_tackle', 'sliding_tackle',\n",
      "       'gk_diving', 'gk_handling', 'gk_kicking', 'gk_positioning',\n",
      "       'gk_reflexes'],\n",
      "      dtype='object')\n"
     ]
    }
   ],
   "source": [
    "print(df.shape)\n",
    "print(df.columns)"
   ]
  },
  {
   "cell_type": "code",
   "execution_count": 4,
   "metadata": {},
   "outputs": [
    {
     "name": "stdout",
     "output_type": "stream",
     "text": [
      "<class 'pandas.core.frame.DataFrame'>\n",
      "RangeIndex: 183978 entries, 0 to 183977\n",
      "Data columns (total 42 columns):\n",
      "id                     183978 non-null int64\n",
      "player_fifa_api_id     183978 non-null int64\n",
      "player_api_id          183978 non-null int64\n",
      "date                   183978 non-null object\n",
      "overall_rating         183142 non-null float64\n",
      "potential              183142 non-null float64\n",
      "preferred_foot         183142 non-null object\n",
      "attacking_work_rate    180748 non-null object\n",
      "defensive_work_rate    183142 non-null object\n",
      "crossing               183142 non-null float64\n",
      "finishing              183142 non-null float64\n",
      "heading_accuracy       183142 non-null float64\n",
      "short_passing          183142 non-null float64\n",
      "volleys                181265 non-null float64\n",
      "dribbling              183142 non-null float64\n",
      "curve                  181265 non-null float64\n",
      "free_kick_accuracy     183142 non-null float64\n",
      "long_passing           183142 non-null float64\n",
      "ball_control           183142 non-null float64\n",
      "acceleration           183142 non-null float64\n",
      "sprint_speed           183142 non-null float64\n",
      "agility                181265 non-null float64\n",
      "reactions              183142 non-null float64\n",
      "balance                181265 non-null float64\n",
      "shot_power             183142 non-null float64\n",
      "jumping                181265 non-null float64\n",
      "stamina                183142 non-null float64\n",
      "strength               183142 non-null float64\n",
      "long_shots             183142 non-null float64\n",
      "aggression             183142 non-null float64\n",
      "interceptions          183142 non-null float64\n",
      "positioning            183142 non-null float64\n",
      "vision                 181265 non-null float64\n",
      "penalties              183142 non-null float64\n",
      "marking                183142 non-null float64\n",
      "standing_tackle        183142 non-null float64\n",
      "sliding_tackle         181265 non-null float64\n",
      "gk_diving              183142 non-null float64\n",
      "gk_handling            183142 non-null float64\n",
      "gk_kicking             183142 non-null float64\n",
      "gk_positioning         183142 non-null float64\n",
      "gk_reflexes            183142 non-null float64\n",
      "dtypes: float64(35), int64(3), object(4)\n",
      "memory usage: 59.0+ MB\n",
      "None\n",
      "As we can see from info of dataframe that there null values in different column\n"
     ]
    }
   ],
   "source": [
    "print(df.info())\n",
    "print(\"As we can see from info of dataframe that there null values in different column\")"
   ]
  },
  {
   "cell_type": "code",
   "execution_count": 5,
   "metadata": {},
   "outputs": [
    {
     "data": {
      "text/plain": [
       "id                        0\n",
       "player_fifa_api_id        0\n",
       "player_api_id             0\n",
       "date                      0\n",
       "overall_rating          836\n",
       "potential               836\n",
       "preferred_foot          836\n",
       "attacking_work_rate    3230\n",
       "defensive_work_rate     836\n",
       "crossing                836\n",
       "finishing               836\n",
       "heading_accuracy        836\n",
       "short_passing           836\n",
       "volleys                2713\n",
       "dribbling               836\n",
       "curve                  2713\n",
       "free_kick_accuracy      836\n",
       "long_passing            836\n",
       "ball_control            836\n",
       "acceleration            836\n",
       "sprint_speed            836\n",
       "agility                2713\n",
       "reactions               836\n",
       "balance                2713\n",
       "shot_power              836\n",
       "jumping                2713\n",
       "stamina                 836\n",
       "strength                836\n",
       "long_shots              836\n",
       "aggression              836\n",
       "interceptions           836\n",
       "positioning             836\n",
       "vision                 2713\n",
       "penalties               836\n",
       "marking                 836\n",
       "standing_tackle         836\n",
       "sliding_tackle         2713\n",
       "gk_diving               836\n",
       "gk_handling             836\n",
       "gk_kicking              836\n",
       "gk_positioning          836\n",
       "gk_reflexes             836\n",
       "dtype: int64"
      ]
     },
     "execution_count": 5,
     "metadata": {},
     "output_type": "execute_result"
    }
   ],
   "source": [
    "df.isnull().sum()"
   ]
  },
  {
   "cell_type": "code",
   "execution_count": 6,
   "metadata": {},
   "outputs": [
    {
     "name": "stdout",
     "output_type": "stream",
     "text": [
      "\n",
      " let see the distribution of every column\n"
     ]
    }
   ],
   "source": [
    "df.dropna(axis=0,inplace=True)\n",
    "print('\\n let see the distribution of every column')"
   ]
  },
  {
   "cell_type": "code",
   "execution_count": 7,
   "metadata": {},
   "outputs": [
    {
     "data": {
      "image/png": "[encoded data removed]",
      "text/plain": [
       "<Figure size 1440x1080 with 42 Axes>"
      ]
     },
     "metadata": {},
     "output_type": "display_data"
    },
    {
     "name": "stdout",
     "output_type": "stream",
     "text": [
      "\n",
      "Lets see object data type:-\n",
      "Index(['date', 'preferred_foot', 'attacking_work_rate', 'defensive_work_rate'], dtype='object')\n",
      "medium    125070\n",
      "high       42823\n",
      "low         8569\n",
      "None        3317\n",
      "norm         317\n",
      "y             94\n",
      "stoc          86\n",
      "le            78\n",
      "Name: attacking_work_rate, dtype: int64\n",
      "I guess these columns could play vitual role in prediction so lets convert these categories\n"
     ]
    }
   ],
   "source": [
    "df.hist(bins=50,figsize=(20,15))\n",
    "plt.show()\n",
    "print('\\nLets see object data type:-')\n",
    "Category= df.select_dtypes(include=['object']).columns\n",
    "print(Category)\n",
    "print(df.attacking_work_rate.value_counts())\n",
    "print(\"I guess these columns could play vitual role in prediction so lets convert these categories\")"
   ]
  },
  {
   "cell_type": "code",
   "execution_count": 8,
   "metadata": {},
   "outputs": [
    {
     "data": {
      "text/plain": [
       "<matplotlib.axes._subplots.AxesSubplot at 0x1d697f9add8>"
      ]
     },
     "execution_count": 8,
     "metadata": {},
     "output_type": "execute_result"
    },
    {
     "data": {
      "image/png": "[encoded data removed]",
      "text/plain": [
       "<Figure size 432x288 with 1 Axes>"
      ]
     },
     "metadata": {},
     "output_type": "display_data"
    }
   ],
   "source": [
    "# for clear insite Plotting the distribution of the values in the attacking_work_rate column\n",
    "df[\"attacking_work_rate\"].value_counts().plot.bar()"
   ]
  },
  {
   "cell_type": "code",
   "execution_count": 9,
   "metadata": {},
   "outputs": [
    {
     "name": "stdout",
     "output_type": "stream",
     "text": [
      "medium    125070\n",
      "high       42823\n",
      "low        12461\n",
      "Name: attacking_work_rate, dtype: int64\n"
     ]
    },
    {
     "data": {
      "text/plain": [
       "<matplotlib.axes._subplots.AxesSubplot at 0x1d69fbd4c88>"
      ]
     },
     "execution_count": 9,
     "metadata": {},
     "output_type": "execute_result"
    },
    {
     "data": {
      "image/png": "[encoded data removed]",
      "text/plain": [
       "<Figure size 432x288 with 1 Axes>"
      ]
     },
     "metadata": {},
     "output_type": "display_data"
    }
   ],
   "source": [
    "# Choosing to replace only with low because it can improve the variance of the column\n",
    "df.replace( ['None','norm','y','stoc','le'],'low', inplace = True)\n",
    "print(df[\"attacking_work_rate\"].value_counts())\n",
    "df[\"attacking_work_rate\"].value_counts().plot.bar()"
   ]
  },
  {
   "cell_type": "code",
   "execution_count": 10,
   "metadata": {},
   "outputs": [
    {
     "name": "stdout",
     "output_type": "stream",
     "text": [
      "medium    130846\n",
      "high       27041\n",
      "low        18432\n",
      "o           1328\n",
      "1            421\n",
      "2            334\n",
      "ormal        317\n",
      "3            243\n",
      "5            231\n",
      "7            207\n",
      "0            188\n",
      "6            179\n",
      "9            143\n",
      "4            116\n",
      "es            94\n",
      "tocky         86\n",
      "ean           78\n",
      "8             70\n",
      "Name: defensive_work_rate, dtype: int64\n"
     ]
    }
   ],
   "source": [
    "print(df.defensive_work_rate.value_counts())"
   ]
  },
  {
   "cell_type": "code",
   "execution_count": 11,
   "metadata": {},
   "outputs": [
    {
     "name": "stdout",
     "output_type": "stream",
     "text": [
      "medium    131372\n",
      "high       27461\n",
      "low        21521\n",
      "Name: defensive_work_rate, dtype: int64\n"
     ]
    },
    {
     "data": {
      "image/png": "[encoded data removed]",
      "text/plain": [
       "<Figure size 432x288 with 1 Axes>"
      ]
     },
     "metadata": {},
     "output_type": "display_data"
    }
   ],
   "source": [
    "df[\"defensive_work_rate\"].value_counts().plot.bar()\n",
    "df.replace(['o', '1', '2', 'ormal', '3', '0', 'es', 'tocky', 'ean'],'low',inplace = True) \n",
    "df.replace(['5',  '6', '4'],'medium', inplace = True) \n",
    "df.replace([ '7', '9', '8'],'high', inplace = True) \n",
    "print(df[\"defensive_work_rate\"].value_counts())"
   ]
  },
  {
   "cell_type": "code",
   "execution_count": 12,
   "metadata": {},
   "outputs": [
    {
     "data": {
      "text/plain": [
       "<matplotlib.axes._subplots.AxesSubplot at 0x1d69953a320>"
      ]
     },
     "execution_count": 12,
     "metadata": {},
     "output_type": "execute_result"
    },
    {
     "data": {
      "image/png": "[encoded data removed]",
      "text/plain": [
       "<Figure size 432x288 with 1 Axes>"
      ]
     },
     "metadata": {},
     "output_type": "display_data"
    }
   ],
   "source": [
    "df[\"defensive_work_rate\"].value_counts().plot.bar()"
   ]
  },
  {
   "cell_type": "code",
   "execution_count": 13,
   "metadata": {},
   "outputs": [],
   "source": [
    "import seaborn as sns"
   ]
  },
  {
   "cell_type": "code",
   "execution_count": 14,
   "metadata": {},
   "outputs": [
    {
     "data": {
      "text/plain": [
       "<Figure size 360x360 with 0 Axes>"
      ]
     },
     "execution_count": 14,
     "metadata": {},
     "output_type": "execute_result"
    },
    {
     "data": {
      "text/plain": [
       "<Figure size 360x360 with 0 Axes>"
      ]
     },
     "metadata": {},
     "output_type": "display_data"
    }
   ],
   "source": [
    "plt.figure(figsize=(5,5))"
   ]
  },
  {
   "cell_type": "code",
   "execution_count": 15,
   "metadata": {},
   "outputs": [
    {
     "data": {
      "text/plain": [
       "<matplotlib.axes._subplots.AxesSubplot at 0x1d69a166208>"
      ]
     },
     "execution_count": 15,
     "metadata": {},
     "output_type": "execute_result"
    },
    {
     "data": {
      "image/png": "[encoded data removed]",
      "text/plain": [
       "<Figure size 432x288 with 2 Axes>"
      ]
     },
     "metadata": {},
     "output_type": "display_data"
    }
   ],
   "source": [
    "sns.heatmap(df.corr(), cmap=\"PRGn\")"
   ]
  },
  {
   "cell_type": "code",
   "execution_count": 16,
   "metadata": {},
   "outputs": [
    {
     "name": "stdout",
     "output_type": "stream",
     "text": [
      "\n",
      " overall_rating is highly correlated with the reactions and potential columns(Correlation>0.7). It is moderately correlated with short_passing, long_passing,ball_control, shot_power,vision (correlation >0.4\n"
     ]
    }
   ],
   "source": [
    "df.corr().loc['overall_rating']\n",
    "print(\"\\n overall_rating is highly correlated with the reactions and potential columns(Correlation>0.7). It is moderately correlated with short_passing, long_passing,ball_control, shot_power,vision (correlation >0.4\")"
   ]
  },
  {
   "cell_type": "code",
   "execution_count": 17,
   "metadata": {},
   "outputs": [
    {
     "name": "stdout",
     "output_type": "stream",
     "text": [
      "\n",
      "Let Prepare X and Y for Model\n"
     ]
    },
    {
     "data": {
      "text/plain": [
       "((180354, 41),\n",
       " Index(['id', 'player_fifa_api_id', 'player_api_id', 'date', 'potential',\n",
       "        'preferred_foot', 'attacking_work_rate', 'defensive_work_rate',\n",
       "        'crossing', 'finishing', 'heading_accuracy', 'short_passing', 'volleys',\n",
       "        'dribbling', 'curve', 'free_kick_accuracy', 'long_passing',\n",
       "        'ball_control', 'acceleration', 'sprint_speed', 'agility', 'reactions',\n",
       "        'balance', 'shot_power', 'jumping', 'stamina', 'strength', 'long_shots',\n",
       "        'aggression', 'interceptions', 'positioning', 'vision', 'penalties',\n",
       "        'marking', 'standing_tackle', 'sliding_tackle', 'gk_diving',\n",
       "        'gk_handling', 'gk_kicking', 'gk_positioning', 'gk_reflexes'],\n",
       "       dtype='object'))"
      ]
     },
     "execution_count": 17,
     "metadata": {},
     "output_type": "execute_result"
    }
   ],
   "source": [
    "print(\"\\nLet Prepare X and Y for Model\")\n",
    "#Prepare X first \n",
    "X = df.drop(\"overall_rating\",axis = 1)\n",
    "X.shape, X.columns"
   ]
  },
  {
   "cell_type": "code",
   "execution_count": 18,
   "metadata": {},
   "outputs": [],
   "source": [
    "#Convert Data Column for better understanding \n",
    "X['year'] = pd.DatetimeIndex(X.date).year\n",
    "X['month'] = pd.DatetimeIndex(X.date).month\n",
    "X['day'] = pd.DatetimeIndex(X.date).day\n",
    "X.drop('date',axis=1, inplace=True)"
   ]
  },
  {
   "cell_type": "code",
   "execution_count": 19,
   "metadata": {},
   "outputs": [
    {
     "data": {
      "text/plain": [
       "['preferred_foot', 'attacking_work_rate', 'defensive_work_rate']"
      ]
     },
     "execution_count": 19,
     "metadata": {},
     "output_type": "execute_result"
    }
   ],
   "source": [
    "# Now Converting all Columns to Numerical for the shake of anaylisis\n",
    "X_cat_cols = X.select_dtypes(include='object').columns.tolist()\n",
    "X_cat_cols"
   ]
  },
  {
   "cell_type": "code",
   "execution_count": 20,
   "metadata": {},
   "outputs": [],
   "source": [
    "# LabelEncoding the preferred_foot, attacking_work_rate, defensive_work_rate\n",
    "from sklearn.preprocessing import LabelEncoder\n",
    "for i in X_cat_cols:\n",
    "    lbl_enc = LabelEncoder()\n",
    "    X[i] = lbl_enc.fit_transform(X[i])"
   ]
  },
  {
   "cell_type": "code",
   "execution_count": 21,
   "metadata": {},
   "outputs": [
    {
     "data": {
      "text/plain": [
       "(Index(['id', 'player_fifa_api_id', 'player_api_id', 'potential',\n",
       "        'preferred_foot', 'attacking_work_rate', 'defensive_work_rate',\n",
       "        'crossing', 'finishing', 'heading_accuracy', 'short_passing', 'volleys',\n",
       "        'dribbling', 'curve', 'free_kick_accuracy', 'long_passing',\n",
       "        'ball_control', 'acceleration', 'sprint_speed', 'agility', 'reactions',\n",
       "        'balance', 'shot_power', 'jumping', 'stamina', 'strength', 'long_shots',\n",
       "        'aggression', 'interceptions', 'positioning', 'vision', 'penalties',\n",
       "        'marking', 'standing_tackle', 'sliding_tackle', 'gk_diving',\n",
       "        'gk_handling', 'gk_kicking', 'gk_positioning', 'gk_reflexes', 'year',\n",
       "        'month', 'day'],\n",
       "       dtype='object'), (180354, 43))"
      ]
     },
     "execution_count": 21,
     "metadata": {},
     "output_type": "execute_result"
    }
   ],
   "source": [
    "#Final Look to X variable \n",
    "# Checking the columns and the shape of the input vector after encoding\n",
    "X.columns, X.shape "
   ]
  },
  {
   "cell_type": "code",
   "execution_count": 22,
   "metadata": {},
   "outputs": [
    {
     "data": {
      "text/plain": [
       "(180354,)"
      ]
     },
     "execution_count": 22,
     "metadata": {},
     "output_type": "execute_result"
    }
   ],
   "source": [
    "# its turn for Y \n",
    "Y = df[\"overall_rating\"]\n",
    "Y.shape"
   ]
  },
  {
   "cell_type": "code",
   "execution_count": 23,
   "metadata": {},
   "outputs": [
    {
     "name": "stdout",
     "output_type": "stream",
     "text": [
      "\n",
      "Spliting test and train sets 25%\n",
      "\n",
      " Creating a model and checking model Score \n",
      "\n"
     ]
    }
   ],
   "source": [
    "print(\"\\nSpliting test and train sets 25%\")\n",
    "x_train, x_test, y_train, y_test = train_test_split(X,Y,test_size=0.25, random_state = 100)\n",
    "import math\n",
    "print(\"\\n Creating a model and checking model Score \\n\")\n",
    "lm  = LinearRegression()\n",
    "model  = lm.fit(x_train,y_train)\n",
    "y_train_pred = model.predict(x_train)\n",
    "y_test_pred = model.predict(x_test)"
   ]
  },
  {
   "cell_type": "code",
   "execution_count": 24,
   "metadata": {},
   "outputs": [
    {
     "name": "stdout",
     "output_type": "stream",
     "text": [
      "Linear Regression - RMSE Train: 2.4865828726596617\n",
      "Linear Regression - RMSE Test: 2.4908594258832584\n",
      "Linear Regression - R2_score Train: 0.8564720600523772\n",
      "Linear Regression - R2_score Test: 0.85670263865022\n"
     ]
    }
   ],
   "source": [
    "print('Linear Regression -', 'RMSE Train:', math.sqrt(mean_squared_error(y_train_pred, y_train)))\n",
    "print('Linear Regression -', 'RMSE Test:' ,math.sqrt(mean_squared_error(y_test_pred, y_test)))  \n",
    "print('Linear Regression -', 'R2_score Train:', r2_score(y_train_pred, y_train))\n",
    "print('Linear Regression -', 'R2_score Test:' ,r2_score(y_test_pred, y_test))"
   ]
  },
  {
   "cell_type": "code",
   "execution_count": 25,
   "metadata": {},
   "outputs": [],
   "source": [
    "regressors = [\n",
    "            (\"Linear - \", LinearRegression(normalize=True)),\n",
    "            (\"Ridge - \",  Ridge(alpha=0.5, normalize=True)),\n",
    "            (\"Lasso - \",  Lasso(alpha=0.5, normalize=True)),\n",
    "            (\"ElasticNet - \",  ElasticNet(alpha=0.5, l1_ratio=0.5, normalize=True)),\n",
    "            (\"Decision Tree - \",  DecisionTreeRegressor(max_depth=5)),\n",
    "            (\"Random Forest - \",  RandomForestRegressor(n_estimators=5)),\n",
    "            (\"AdaBoost - \",  AdaBoostRegressor(n_estimators=5)),\n",
    "            (\"GBM - \", GradientBoostingRegressor(n_estimators=5))]"
   ]
  },
  {
   "cell_type": "code",
   "execution_count": 26,
   "metadata": {},
   "outputs": [
    {
     "name": "stdout",
     "output_type": "stream",
     "text": [
      "Linear -  \n",
      "\t R2-Score: 0.8753631121241854 \n",
      "\t RMSE: 2.4908594258832584 \n",
      "\n",
      "Ridge -  \n",
      "\t R2-Score: 0.8322696803400622 \n",
      "\t RMSE: 2.889559938694759 \n",
      "\n",
      "Lasso -  \n",
      "\t R2-Score: -4.220879563199276e-06 \n",
      "\t RMSE: 7.0554844132901415 \n",
      "\n",
      "ElasticNet -  \n",
      "\t R2-Score: -4.220879563199276e-06 \n",
      "\t RMSE: 7.0554844132901415 \n",
      "\n",
      "Decision Tree -  \n",
      "\t R2-Score: 0.7830635206211316 \n",
      "\t RMSE: 3.2861865524378087 \n",
      "\n",
      "Random Forest -  \n",
      "\t R2-Score: 0.9745168604432078 \n",
      "\t RMSE: 1.1262955974955984 \n",
      "\n",
      "AdaBoost -  \n",
      "\t R2-Score: 0.7557485287290588 \n",
      "\t RMSE: 3.4869403205124145 \n",
      "\n",
      "GBM -  \n",
      "\t R2-Score: 0.4566327593638615 \n",
      "\t RMSE: 5.200829853475986 \n",
      "\n"
     ]
    }
   ],
   "source": [
    "for reg in regressors:\n",
    "    reg[1].fit(x_train, y_train)\n",
    "    y_test_pred= reg[1].predict(x_test)\n",
    "    print(reg[0],\"\\n\\t R2-Score:\", reg[1].score(x_test, y_test),\n",
    "                 \"\\n\\t RMSE:\", math.sqrt(mean_squared_error(y_test_pred, y_test)),\"\\n\")"
   ]
  },
  {
   "cell_type": "code",
   "execution_count": 27,
   "metadata": {},
   "outputs": [
    {
     "name": "stdout",
     "output_type": "stream",
     "text": [
      "\n",
      "feature Selection using random forest \n",
      "\n"
     ]
    },
    {
     "data": {
      "text/plain": [
       "RandomForestRegressor(bootstrap=True, criterion='mse', max_depth=None,\n",
       "           max_features='auto', max_leaf_nodes=None,\n",
       "           min_impurity_decrease=0.0, min_impurity_split=None,\n",
       "           min_samples_leaf=1, min_samples_split=2,\n",
       "           min_weight_fraction_leaf=0.0, n_estimators=10, n_jobs=1,\n",
       "           oob_score=False, random_state=None, verbose=0, warm_start=False)"
      ]
     },
     "execution_count": 27,
     "metadata": {},
     "output_type": "execute_result"
    }
   ],
   "source": [
    "print(\"\\nfeature Selection using random forest \\n\")\n",
    "rndf = RandomForestRegressor(n_estimators=10)\n",
    "rndf.fit(x_train, y_train)"
   ]
  },
  {
   "cell_type": "code",
   "execution_count": 28,
   "metadata": {},
   "outputs": [
    {
     "data": {
      "text/plain": [
       "<Figure size 1440x1080 with 0 Axes>"
      ]
     },
     "execution_count": 28,
     "metadata": {},
     "output_type": "execute_result"
    },
    {
     "data": {
      "text/plain": [
       "<Figure size 1440x1080 with 0 Axes>"
      ]
     },
     "metadata": {},
     "output_type": "display_data"
    }
   ],
   "source": [
    "importance = pd.DataFrame.from_dict({'cols':x_train.columns, 'importance': rndf.feature_importances_})\n",
    "importance = importance.sort_values(by='importance', ascending=False)\n",
    "plt.figure(figsize=(20,15))"
   ]
  },
  {
   "cell_type": "code",
   "execution_count": 29,
   "metadata": {},
   "outputs": [
    {
     "data": {
      "text/plain": [
       "<matplotlib.axes._subplots.AxesSubplot at 0x1d698a34550>"
      ]
     },
     "execution_count": 29,
     "metadata": {},
     "output_type": "execute_result"
    },
    {
     "data": {
      "image/png": "[encoded data removed]",
      "text/plain": [
       "<Figure size 432x288 with 1 Axes>"
      ]
     },
     "metadata": {},
     "output_type": "display_data"
    }
   ],
   "source": [
    "sns.barplot(importance.cols, importance.importance)"
   ]
  },
  {
   "cell_type": "code",
   "execution_count": 30,
   "metadata": {},
   "outputs": [
    {
     "data": {
      "text/plain": [
       "(array([0. , 0.2, 0.4, 0.6, 0.8, 1. ]), <a list of 6 Text xticklabel objects>)"
      ]
     },
     "execution_count": 30,
     "metadata": {},
     "output_type": "execute_result"
    },
    {
     "data": {
      "image/png": "[encoded data removed]",
      "text/plain": [
       "<Figure size 432x288 with 1 Axes>"
      ]
     },
     "metadata": {},
     "output_type": "display_data"
    }
   ],
   "source": [
    "plt.xticks(rotation=90)"
   ]
  },
  {
   "cell_type": "code",
   "execution_count": 31,
   "metadata": {},
   "outputs": [
    {
     "data": {
      "text/plain": [
       "array(['reactions', 'potential', 'ball_control', 'standing_tackle',\n",
       "       'player_fifa_api_id', 'heading_accuracy', 'gk_positioning',\n",
       "       'gk_diving', 'player_api_id', 'positioning', 'marking', 'year',\n",
       "       'crossing', 'gk_handling', 'strength', 'shot_power',\n",
       "       'interceptions', 'finishing', 'dribbling', 'gk_reflexes'],\n",
       "      dtype=object)"
      ]
     },
     "execution_count": 31,
     "metadata": {},
     "output_type": "execute_result"
    }
   ],
   "source": [
    "imp_cols = importance[importance.importance >= 0.005].cols.values\n",
    "imp_cols"
   ]
  },
  {
   "cell_type": "code",
   "execution_count": 32,
   "metadata": {},
   "outputs": [
    {
     "name": "stdout",
     "output_type": "stream",
     "text": [
      "\n",
      "Fitting models with columns where feature importance>=0.005\n",
      "\n"
     ]
    }
   ],
   "source": [
    "print(\"\\nFitting models with columns where feature importance>=0.005\\n\")\n",
    "x_train, x_test, y_train, y_test = train_test_split(X[imp_cols],Y,test_size=0.25, random_state = 100)"
   ]
  },
  {
   "cell_type": "code",
   "execution_count": 33,
   "metadata": {},
   "outputs": [
    {
     "name": "stdout",
     "output_type": "stream",
     "text": [
      "Linear -  \n",
      "\t R2-Score: 0.8712772553304844 \n",
      "\t RMSE: 2.531357975758788 \n",
      "\n",
      "Ridge -  \n",
      "\t R2-Score: 0.8278704342978989 \n",
      "\t RMSE: 2.9272084941797862 \n",
      "\n",
      "Lasso -  \n",
      "\t R2-Score: -4.220879563199276e-06 \n",
      "\t RMSE: 7.0554844132901415 \n",
      "\n",
      "ElasticNet -  \n",
      "\t R2-Score: -4.220879563199276e-06 \n",
      "\t RMSE: 7.0554844132901415 \n",
      "\n",
      "Decision Tree -  \n",
      "\t R2-Score: 0.7830635206211316 \n",
      "\t RMSE: 3.2861865524378087 \n",
      "\n",
      "Random Forest -  \n",
      "\t R2-Score: 0.9734512173708784 \n",
      "\t RMSE: 1.149603893655698 \n",
      "\n",
      "AdaBoost -  \n",
      "\t R2-Score: 0.770496385357664 \n",
      "\t RMSE: 3.380031013875091 \n",
      "\n",
      "GBM -  \n",
      "\t R2-Score: 0.45663275936386316 \n",
      "\t RMSE: 5.200829853475978 \n",
      "\n"
     ]
    }
   ],
   "source": [
    "for reg in regressors:\n",
    "    reg[1].fit(x_train, y_train)\n",
    "    y_test_pred= reg[1].predict(x_test)\n",
    "    print(reg[0],\"\\n\\t R2-Score:\", reg[1].score(x_test, y_test),\n",
    "                 \"\\n\\t RMSE:\", math.sqrt(mean_squared_error(y_test_pred, y_test)),\"\\n\")"
   ]
  },
  {
   "cell_type": "code",
   "execution_count": 34,
   "metadata": {},
   "outputs": [
    {
     "data": {
      "text/plain": [
       "array(['reactions', 'potential', 'ball_control', 'standing_tackle',\n",
       "       'player_fifa_api_id', 'heading_accuracy', 'gk_positioning',\n",
       "       'gk_diving', 'player_api_id', 'positioning', 'marking', 'year',\n",
       "       'crossing', 'gk_handling', 'strength', 'shot_power',\n",
       "       'interceptions', 'finishing', 'dribbling', 'gk_reflexes',\n",
       "       'stamina', 'short_passing', 'aggression', 'long_passing',\n",
       "       'long_shots', 'sliding_tackle', 'sprint_speed', 'vision',\n",
       "       'acceleration', 'id', 'gk_kicking', 'jumping', 'penalties',\n",
       "       'volleys', 'curve', 'balance', 'agility', 'free_kick_accuracy'],\n",
       "      dtype=object)"
      ]
     },
     "execution_count": 34,
     "metadata": {},
     "output_type": "execute_result"
    }
   ],
   "source": [
    "imp_cols = importance[importance.importance >= 0.001].cols.values\n",
    "imp_cols"
   ]
  },
  {
   "cell_type": "code",
   "execution_count": 35,
   "metadata": {},
   "outputs": [
    {
     "name": "stdout",
     "output_type": "stream",
     "text": [
      "\n",
      "Fitting models with columns where feature importance>=0.001\n",
      "\n"
     ]
    }
   ],
   "source": [
    "print(\"\\nFitting models with columns where feature importance>=0.001\\n\")\n",
    "x_train, x_test, y_train, y_test = train_test_split(X[imp_cols],Y,test_size=0.25, random_state = 100)"
   ]
  },
  {
   "cell_type": "code",
   "execution_count": 36,
   "metadata": {},
   "outputs": [
    {
     "name": "stdout",
     "output_type": "stream",
     "text": [
      "Linear -  \n",
      "\t R2-Score: 0.8747888410034347 \n",
      "\t RMSE: 2.496591215040614 \n",
      "\n",
      "Ridge -  \n",
      "\t R2-Score: 0.8315715523218906 \n",
      "\t RMSE: 2.8955671651411694 \n",
      "\n",
      "Lasso -  \n",
      "\t R2-Score: -4.220879563199276e-06 \n",
      "\t RMSE: 7.0554844132901415 \n",
      "\n",
      "ElasticNet -  \n",
      "\t R2-Score: -4.220879563199276e-06 \n",
      "\t RMSE: 7.0554844132901415 \n",
      "\n",
      "Decision Tree -  \n",
      "\t R2-Score: 0.7830635206211316 \n",
      "\t RMSE: 3.2861865524378087 \n",
      "\n",
      "Random Forest -  \n",
      "\t R2-Score: 0.9752198721173548 \n",
      "\t RMSE: 1.1106512043471826 \n",
      "\n",
      "AdaBoost -  \n",
      "\t R2-Score: 0.7690048176273857 \n",
      "\t RMSE: 3.3909968113533826 \n",
      "\n",
      "GBM -  \n",
      "\t R2-Score: 0.4566327593638626 \n",
      "\t RMSE: 5.20082985347598 \n",
      "\n"
     ]
    }
   ],
   "source": [
    "for reg in regressors:\n",
    "    reg[1].fit(x_train, y_train)\n",
    "    y_test_pred= reg[1].predict(x_test)\n",
    "    print(reg[0],\"\\n\\t R2-Score:\", reg[1].score(x_test, y_test),\n",
    "                 \"\\n\\t RMSE:\", math.sqrt(mean_squared_error(y_test_pred, y_test)),\"\\n\")"
   ]
  },
  {
   "cell_type": "code",
   "execution_count": 37,
   "metadata": {},
   "outputs": [
    {
     "name": "stdout",
     "output_type": "stream",
     "text": [
      "\n",
      "RandomForest and GBM provide us with the best RMSE and R2-Score when selecting columns with feature importance >= 0.001\n",
      "\n"
     ]
    }
   ],
   "source": [
    "print(\"\\nRandomForest and GBM provide us with the best RMSE and R2-Score when selecting columns with feature importance >= 0.001\\n\")"
   ]
  },
  {
   "cell_type": "code",
   "execution_count": 38,
   "metadata": {},
   "outputs": [
    {
     "name": "stdout",
     "output_type": "stream",
     "text": [
      "\n",
      "Validating our models using K-Fold Cross Validation for Robustness\n",
      "\n"
     ]
    }
   ],
   "source": [
    "print(\"\\nValidating our models using K-Fold Cross Validation for Robustness\\n\")"
   ]
  },
  {
   "cell_type": "code",
   "execution_count": 39,
   "metadata": {},
   "outputs": [],
   "source": [
    "scoring = 'neg_mean_squared_error'"
   ]
  },
  {
   "cell_type": "code",
   "execution_count": 40,
   "metadata": {},
   "outputs": [],
   "source": [
    "results=[]\n",
    "names=[]"
   ]
  },
  {
   "cell_type": "code",
   "execution_count": 41,
   "metadata": {},
   "outputs": [
    {
     "name": "stdout",
     "output_type": "stream",
     "text": [
      "Linear -  \n",
      "\t CV-Mean: -6.215925595752932 \n",
      "\t CV-Std. Dev: 0.07649486185720171 \n",
      "\n",
      "Ridge -  \n",
      "\t CV-Mean: -8.292970128724052 \n",
      "\t CV-Std. Dev: 0.12624072167664105 \n",
      "\n",
      "Lasso -  \n",
      "\t CV-Mean: -49.263172179987876 \n",
      "\t CV-Std. Dev: 0.5729685439130466 \n",
      "\n",
      "ElasticNet -  \n",
      "\t CV-Mean: -49.263172179987876 \n",
      "\t CV-Std. Dev: 0.5729685439130466 \n",
      "\n",
      "Decision Tree -  \n",
      "\t CV-Mean: -10.981208307852265 \n",
      "\t CV-Std. Dev: 0.29186881673848947 \n",
      "\n",
      "Random Forest -  \n",
      "\t CV-Mean: -1.3628669805803808 \n",
      "\t CV-Std. Dev: 0.046432519216915914 \n",
      "\n",
      "AdaBoost -  \n",
      "\t CV-Mean: -11.984729835119337 \n",
      "\t CV-Std. Dev: 0.28116349560612514 \n",
      "\n",
      "GBM -  \n",
      "\t CV-Mean: -26.9217969533818 \n",
      "\t CV-Std. Dev: 0.3132762037127586 \n",
      "\n"
     ]
    }
   ],
   "source": [
    "for modelname, model in regressors:\n",
    "    kfold = KFold(n_splits=10, random_state=7)\n",
    "    cv_results = cross_val_score(model, x_train,y_train, cv=kfold, scoring=scoring)\n",
    "    results.append(cv_results)\n",
    "    names.append(modelname)\n",
    "    print(modelname,\"\\n\\t CV-Mean:\", cv_results.mean(),\n",
    "                    \"\\n\\t CV-Std. Dev:\",  cv_results.std(),\"\\n\")"
   ]
  },
  {
   "cell_type": "code",
   "execution_count": 42,
   "metadata": {},
   "outputs": [
    {
     "name": "stdout",
     "output_type": "stream",
     "text": [
      "\n",
      "RandomForest and GBM provide us with the best validation score, both w.r.t. CV-Mean and CV-Std. Dev\n",
      "\n",
      "\n",
      "\n",
      "Therefore we choose these two models to optimize. \n",
      "      We do this by finding best hyper-parameter values which give us even better R2-Score and RMSE values\n"
     ]
    }
   ],
   "source": [
    "print(\"\\nRandomForest and GBM provide us with the best validation score, both w.r.t. CV-Mean and CV-Std. Dev\\n\")\n",
    "\n",
    "print(\"\"\"\\n\\nTherefore we choose these two models to optimize. \n",
    "      We do this by finding best hyper-parameter values which give us even better R2-Score and RMSE values\"\"\")  "
   ]
  },
  {
   "cell_type": "code",
   "execution_count": 43,
   "metadata": {},
   "outputs": [
    {
     "name": "stdout",
     "output_type": "stream",
     "text": [
      "\n",
      "Tuning Model for better Performance -- Hyper-Parameter Optimization\n",
      "\n"
     ]
    }
   ],
   "source": [
    "print(\"\\nTuning Model for better Performance -- Hyper-Parameter Optimization\\n\")\n"
   ]
  },
  {
   "cell_type": "code",
   "execution_count": 44,
   "metadata": {},
   "outputs": [],
   "source": [
    "RF_Regressor =  RandomForestRegressor(n_estimators=100, n_jobs = -1, random_state = 100)"
   ]
  },
  {
   "cell_type": "code",
   "execution_count": 45,
   "metadata": {},
   "outputs": [],
   "source": [
    "CV = ShuffleSplit(test_size=0.25, random_state=100)"
   ]
  },
  {
   "cell_type": "code",
   "execution_count": 46,
   "metadata": {},
   "outputs": [],
   "source": [
    "param_grid = {\"max_depth\": [5, None],\n",
    "              \"n_estimators\": [50, 100, 150, 200],\n",
    "              \"min_samples_split\": [2, 4, 5],\n",
    "              \"min_samples_leaf\": [2, 4, 6]\n",
    "             }"
   ]
  },
  {
   "cell_type": "code",
   "execution_count": null,
   "metadata": {},
   "outputs": [
    {
     "name": "stdout",
     "output_type": "stream",
     "text": [
      "Fitting 3 folds for each of 72 candidates, totalling 216 fits\n"
     ]
    }
   ],
   "source": [
    "rscv_grid = GridSearchCV(RF_Regressor, param_grid=param_grid, verbose=1)\n",
    "rscv_grid.fit(x_train, y_train)\n",
    "rscv_grid.best_params_\n",
    "model = rscv_grid.best_estimator_\n",
    "model.fit(x_train, y_train)\n",
    "model.score(x_test, y_test)\n",
    "RF_reg = pickle.dumps(rscv_grid)"
   ]
  },
  {
   "cell_type": "code",
   "execution_count": null,
   "metadata": {},
   "outputs": [],
   "source": [
    "#Gradient\n",
    "GB_Regressor =  GradientBoostingRegressor(n_estimators=100)\n"
   ]
  },
  {
   "cell_type": "code",
   "execution_count": null,
   "metadata": {},
   "outputs": [],
   "source": [
    "CV = ShuffleSplit(test_size=0.25, random_state=100)\n",
    "\n",
    "param_grid = {'max_depth': [5, 7, 9],\n",
    "              'learning_rate': [0.1, 0.3, 0.5]\n",
    "             }"
   ]
  },
  {
   "cell_type": "code",
   "execution_count": null,
   "metadata": {},
   "outputs": [],
   "source": []
  },
  {
   "cell_type": "code",
   "execution_count": null,
   "metadata": {},
   "outputs": [],
   "source": []
  },
  {
   "cell_type": "code",
   "execution_count": null,
   "metadata": {},
   "outputs": [],
   "source": []
  },
  {
   "cell_type": "code",
   "execution_count": null,
   "metadata": {},
   "outputs": [],
   "source": []
  },
  {
   "cell_type": "code",
   "execution_count": null,
   "metadata": {},
   "outputs": [],
   "source": []
  },
  {
   "cell_type": "code",
   "execution_count": null,
   "metadata": {},
   "outputs": [],
   "source": []
  },
  {
   "cell_type": "code",
   "execution_count": null,
   "metadata": {},
   "outputs": [],
   "source": []
  }
 ],
 "metadata": {
  "kernelspec": {
   "display_name": "Python 3",
   "language": "python",
   "name": "python3"
  },
  "language_info": {
   "codemirror_mode": {
    "name": "ipython",
    "version": 3
   },
   "file_extension": ".py",
   "mimetype": "text/x-python",
   "name": "python",
   "nbconvert_exporter": "python",
   "pygments_lexer": "ipython3",
   "version": "3.6.5"
  }
 },
 "nbformat": 4,
 "nbformat_minor": 2
}
